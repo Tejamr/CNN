{
 "cells": [
  {
   "cell_type": "code",
   "execution_count": 1,
   "id": "825f48c9",
   "metadata": {},
   "outputs": [
    {
     "name": "stderr",
     "output_type": "stream",
     "text": [
      "2022-04-06 12:55:02.636975: W tensorflow/stream_executor/platform/default/dso_loader.cc:64] Could not load dynamic library 'libcudart.so.11.0'; dlerror: libcudart.so.11.0: cannot open shared object file: No such file or directory\n",
      "2022-04-06 12:55:02.637002: I tensorflow/stream_executor/cuda/cudart_stub.cc:29] Ignore above cudart dlerror if you do not have a GPU set up on your machine.\n"
     ]
    }
   ],
   "source": [
    "from keras.datasets import fashion_mnist\n",
    "(X_train,y_train),(X_test,y_test)=fashion_mnist.load_data()"
   ]
  },
  {
   "cell_type": "code",
   "execution_count": 2,
   "id": "276d8650",
   "metadata": {},
   "outputs": [
    {
     "name": "stdout",
     "output_type": "stream",
     "text": [
      "Training data shape :  (60000, 28, 28) (60000,)\n",
      "Test data shape :  (10000, 28, 28) (10000,)\n"
     ]
    }
   ],
   "source": [
    "import numpy as np\n",
    "import tensorflow as tf\n",
    "import keras\n",
    "from tensorflow.keras.utils import to_categorical\n",
    "import matplotlib.pyplot as plt\n",
    "\n",
    "%matplotlib inline\n",
    "\n",
    "\n",
    "print(\"Training data shape : \" ,X_train.shape,y_train.shape)\n",
    "\n",
    "print(\"Test data shape : \" ,X_test.shape,y_test.shape)"
   ]
  },
  {
   "cell_type": "code",
   "execution_count": 3,
   "id": "b6e51788",
   "metadata": {},
   "outputs": [
    {
     "name": "stdout",
     "output_type": "stream",
     "text": [
      "total outputs :  10\n",
      "output classes :  [0 1 2 3 4 5 6 7 8 9]\n"
     ]
    }
   ],
   "source": [
    "classes = np.unique(y_train)\n",
    "nclasses = len(classes)\n",
    "\n",
    "print('total outputs : ',nclasses)\n",
    "\n",
    "print('output classes : ',classes)"
   ]
  },
  {
   "cell_type": "code",
   "execution_count": 4,
   "id": "23f34fe5",
   "metadata": {},
   "outputs": [
    {
     "data": {
      "text/plain": [
       "Text(0.5, 1.0, 'testing data : 9')"
      ]
     },
     "execution_count": 4,
     "metadata": {},
     "output_type": "execute_result"
    },
    {
     "data": {
      "image/png": "[encoded data removed]",
      "text/plain": [
       "<Figure size 360x360 with 2 Axes>"
      ]
     },
     "metadata": {
      "needs_background": "light"
     },
     "output_type": "display_data"
    }
   ],
   "source": [
    "plt.figure(figsize=[5,5])\n",
    "\n",
    "plt.subplot(121)\n",
    "plt.imshow(X_train[1,:,:] ,cmap = 'gray')\n",
    "plt.title(\"Training data : {}\".format(y_train[0]))\n",
    "\n",
    "plt.subplot(122)\n",
    "plt.imshow(X_test[0,:,:] , cmap = 'gray')\n",
    "plt.title(\"testing data : {}\".format(y_test[0]))"
   ]
  },
  {
   "cell_type": "code",
   "execution_count": 5,
   "id": "0bc994e4",
   "metadata": {},
   "outputs": [
    {
     "data": {
      "text/plain": [
       "((60000, 28, 28, 1), (10000, 28, 28, 1))"
      ]
     },
     "execution_count": 5,
     "metadata": {},
     "output_type": "execute_result"
    }
   ],
   "source": [
    "X_train = X_train.reshape(-1,28,28,1)\n",
    "\n",
    "X_test = X_test.reshape(-1,28,28,1)\n",
    "\n",
    "X_train.shape , X_test.shape"
   ]
  },
  {
   "cell_type": "code",
   "execution_count": 6,
   "id": "6279845e",
   "metadata": {},
   "outputs": [],
   "source": [
    "X_train = X_train.astype('float32')\n",
    "X_test = X_test.astype('float32')\n",
    "\n",
    "X_train = X_train/255.\n",
    "X_test = X_test/255."
   ]
  },
  {
   "cell_type": "code",
   "execution_count": 7,
   "id": "acdde21e",
   "metadata": {},
   "outputs": [
    {
     "name": "stdout",
     "output_type": "stream",
     "text": [
      "Label : 9\n",
      "After Conversion :  [0. 0. 0. 0. 0. 0. 0. 0. 0. 1.]\n"
     ]
    }
   ],
   "source": [
    "y_train_one = to_categorical(y_train)\n",
    "\n",
    "y_test_one = to_categorical(y_test)\n",
    "\n",
    "print(\"Label :\" ,y_train[0])\n",
    "\n",
    "print(\"After Conversion : \",y_train_one[0])"
   ]
  },
  {
   "cell_type": "code",
   "execution_count": 8,
   "id": "d846a5b1",
   "metadata": {},
   "outputs": [],
   "source": [
    "from sklearn.model_selection import train_test_split\n",
    "X_train,X_valid,train_label,valid_label = train_test_split(X_train,y_train_one,test_size=0.2,random_state=12) "
   ]
  },
  {
   "cell_type": "code",
   "execution_count": 9,
   "id": "2d48aa03",
   "metadata": {},
   "outputs": [
    {
     "data": {
      "text/plain": [
       "((48000, 28, 28, 1), (12000, 28, 28, 1), (48000, 10), (12000, 10))"
      ]
     },
     "execution_count": 9,
     "metadata": {},
     "output_type": "execute_result"
    }
   ],
   "source": [
    "X_train.shape,X_valid.shape,train_label.shape,valid_label.shape"
   ]
  },
  {
   "cell_type": "code",
   "execution_count": 10,
   "id": "8e6a29eb",
   "metadata": {},
   "outputs": [],
   "source": [
    "from tensorflow.keras.models import Sequential,Model\n",
    "from tensorflow.keras.layers import Dense,Dropout,Flatten\n",
    "from tensorflow.keras.layers import Conv2D,MaxPooling2D\n",
    "from tensorflow.keras.layers import LeakyReLU"
   ]
  },
  {
   "cell_type": "code",
   "execution_count": 11,
   "id": "8bcc7a6a",
   "metadata": {},
   "outputs": [],
   "source": [
    "batch_size = 128\n",
    "epochs = 25\n",
    "num_classes = 10"
   ]
  },
  {
   "cell_type": "code",
   "execution_count": 12,
   "id": "03ed895f",
   "metadata": {},
   "outputs": [
    {
     "name": "stderr",
     "output_type": "stream",
     "text": [
      "2022-04-06 12:55:05.756089: W tensorflow/stream_executor/platform/default/dso_loader.cc:64] Could not load dynamic library 'libcuda.so.1'; dlerror: libcuda.so.1: cannot open shared object file: No such file or directory\n",
      "2022-04-06 12:55:05.756117: W tensorflow/stream_executor/cuda/cuda_driver.cc:269] failed call to cuInit: UNKNOWN ERROR (303)\n",
      "2022-04-06 12:55:05.756134: I tensorflow/stream_executor/cuda/cuda_diagnostics.cc:156] kernel driver does not appear to be running on this host (01HW1825674): /proc/driver/nvidia/version does not exist\n",
      "2022-04-06 12:55:05.756319: I tensorflow/core/platform/cpu_feature_guard.cc:151] This TensorFlow binary is optimized with oneAPI Deep Neural Network Library (oneDNN) to use the following CPU instructions in performance-critical operations:  AVX2 FMA\n",
      "To enable them in other operations, rebuild TensorFlow with the appropriate compiler flags.\n"
     ]
    }
   ],
   "source": [
    "model = Sequential()\n",
    "\n",
    "model.add(Conv2D(32,kernel_size=(3,3),activation='linear',input_shape=(28,28,1),padding='same'))\n",
    "model.add(LeakyReLU(alpha=0.1))\n",
    "model.add(MaxPooling2D((2,2),padding='same'))\n",
    "model.add(Dropout(0.25))\n",
    "\n",
    "\n",
    "model.add(Conv2D(64,kernel_size=(3,3),activation='linear',input_shape=(28,28,1),padding='same'))\n",
    "model.add(LeakyReLU(alpha=0.1))\n",
    "model.add(MaxPooling2D((2,2),padding='same'))\n",
    "model.add(Dropout(0.25))\n",
    "\n",
    "\n",
    "model.add(Conv2D(128,kernel_size=(3,3),activation='linear',input_shape=(28,28,1),padding='same'))\n",
    "model.add(LeakyReLU(alpha=0.1))\n",
    "model.add(MaxPooling2D((2,2),padding='same'))\n",
    "model.add(Dropout(0.25))\n",
    "\n",
    "model.add(Flatten())\n",
    "\n",
    "model.add(Dense(128,activation='linear'))\n",
    "model.add(LeakyReLU(alpha=0.1))\n",
    "model.add(Dropout(0.3))\n",
    "model.add(Dense(num_classes,activation = 'softmax'))"
   ]
  },
  {
   "cell_type": "code",
   "execution_count": 13,
   "id": "d9144b06",
   "metadata": {},
   "outputs": [],
   "source": [
    "model.compile(optimizer = tf.keras.optimizers.Adam(),loss='categorical_crossentropy',metrics = ['accuracy'])"
   ]
  },
  {
   "cell_type": "code",
   "execution_count": 14,
   "id": "e3d5e09c",
   "metadata": {},
   "outputs": [
    {
     "name": "stdout",
     "output_type": "stream",
     "text": [
      "Model: \"sequential\"\n",
      "_________________________________________________________________\n",
      " Layer (type)                Output Shape              Param #   \n",
      "=================================================================\n",
      " conv2d (Conv2D)             (None, 28, 28, 32)        320       \n",
      "                                                                 \n",
      " leaky_re_lu (LeakyReLU)     (None, 28, 28, 32)        0         \n",
      "                                                                 \n",
      " max_pooling2d (MaxPooling2D  (None, 14, 14, 32)       0         \n",
      " )                                                               \n",
      "                                                                 \n",
      " dropout (Dropout)           (None, 14, 14, 32)        0         \n",
      "                                                                 \n",
      " conv2d_1 (Conv2D)           (None, 14, 14, 64)        18496     \n",
      "                                                                 \n",
      " leaky_re_lu_1 (LeakyReLU)   (None, 14, 14, 64)        0         \n",
      "                                                                 \n",
      " max_pooling2d_1 (MaxPooling  (None, 7, 7, 64)         0         \n",
      " 2D)                                                             \n",
      "                                                                 \n",
      " dropout_1 (Dropout)         (None, 7, 7, 64)          0         \n",
      "                                                                 \n",
      " conv2d_2 (Conv2D)           (None, 7, 7, 128)         73856     \n",
      "                                                                 \n",
      " leaky_re_lu_2 (LeakyReLU)   (None, 7, 7, 128)         0         \n",
      "                                                                 \n",
      " max_pooling2d_2 (MaxPooling  (None, 4, 4, 128)        0         \n",
      " 2D)                                                             \n",
      "                                                                 \n",
      " dropout_2 (Dropout)         (None, 4, 4, 128)         0         \n",
      "                                                                 \n",
      " flatten (Flatten)           (None, 2048)              0         \n",
      "                                                                 \n",
      " dense (Dense)               (None, 128)               262272    \n",
      "                                                                 \n",
      " leaky_re_lu_3 (LeakyReLU)   (None, 128)               0         \n",
      "                                                                 \n",
      " dropout_3 (Dropout)         (None, 128)               0         \n",
      "                                                                 \n",
      " dense_1 (Dense)             (None, 10)                1290      \n",
      "                                                                 \n",
      "=================================================================\n",
      "Total params: 356,234\n",
      "Trainable params: 356,234\n",
      "Non-trainable params: 0\n",
      "_________________________________________________________________\n"
     ]
    }
   ],
   "source": [
    "model.summary()"
   ]
  },
  {
   "cell_type": "code",
   "execution_count": 15,
   "id": "0d8880a2",
   "metadata": {},
   "outputs": [
    {
     "name": "stdout",
     "output_type": "stream",
     "text": [
      "Epoch 1/25\n",
      "375/375 [==============================] - 35s 91ms/step - loss: 0.6603 - accuracy: 0.7533 - val_loss: 0.3828 - val_accuracy: 0.8612\n",
      "Epoch 2/25\n",
      "375/375 [==============================] - 34s 90ms/step - loss: 0.3972 - accuracy: 0.8561 - val_loss: 0.3100 - val_accuracy: 0.8861\n",
      "Epoch 3/25\n",
      "375/375 [==============================] - 34s 90ms/step - loss: 0.3419 - accuracy: 0.8739 - val_loss: 0.2807 - val_accuracy: 0.8962\n",
      "Epoch 4/25\n",
      "375/375 [==============================] - 34s 90ms/step - loss: 0.3116 - accuracy: 0.8859 - val_loss: 0.2574 - val_accuracy: 0.9054\n",
      "Epoch 5/25\n",
      "375/375 [==============================] - 34s 90ms/step - loss: 0.2901 - accuracy: 0.8932 - val_loss: 0.2482 - val_accuracy: 0.9094\n",
      "Epoch 6/25\n",
      "375/375 [==============================] - 34s 90ms/step - loss: 0.2708 - accuracy: 0.9003 - val_loss: 0.2419 - val_accuracy: 0.9122\n",
      "Epoch 7/25\n",
      "375/375 [==============================] - 34s 91ms/step - loss: 0.2614 - accuracy: 0.9018 - val_loss: 0.2221 - val_accuracy: 0.9177\n",
      "Epoch 8/25\n",
      "375/375 [==============================] - 34s 91ms/step - loss: 0.2451 - accuracy: 0.9102 - val_loss: 0.2229 - val_accuracy: 0.9204\n",
      "Epoch 9/25\n",
      "375/375 [==============================] - 34s 90ms/step - loss: 0.2381 - accuracy: 0.9121 - val_loss: 0.2208 - val_accuracy: 0.9177\n",
      "Epoch 10/25\n",
      "375/375 [==============================] - 34s 90ms/step - loss: 0.2284 - accuracy: 0.9151 - val_loss: 0.2191 - val_accuracy: 0.9198\n",
      "Epoch 11/25\n",
      "375/375 [==============================] - 34s 90ms/step - loss: 0.2204 - accuracy: 0.9173 - val_loss: 0.2133 - val_accuracy: 0.9230\n",
      "Epoch 12/25\n",
      "375/375 [==============================] - 34s 90ms/step - loss: 0.2156 - accuracy: 0.9191 - val_loss: 0.2062 - val_accuracy: 0.9237\n",
      "Epoch 13/25\n",
      "375/375 [==============================] - 34s 90ms/step - loss: 0.2071 - accuracy: 0.9231 - val_loss: 0.2097 - val_accuracy: 0.9231\n",
      "Epoch 14/25\n",
      "375/375 [==============================] - 34s 90ms/step - loss: 0.2032 - accuracy: 0.9235 - val_loss: 0.2035 - val_accuracy: 0.9278\n",
      "Epoch 15/25\n",
      "375/375 [==============================] - 34s 90ms/step - loss: 0.1967 - accuracy: 0.9253 - val_loss: 0.2068 - val_accuracy: 0.9266\n",
      "Epoch 16/25\n",
      "375/375 [==============================] - 35s 92ms/step - loss: 0.1910 - accuracy: 0.9299 - val_loss: 0.2029 - val_accuracy: 0.9268\n",
      "Epoch 17/25\n",
      "375/375 [==============================] - 34s 90ms/step - loss: 0.1887 - accuracy: 0.9288 - val_loss: 0.1990 - val_accuracy: 0.9281\n",
      "Epoch 18/25\n",
      "375/375 [==============================] - 34s 91ms/step - loss: 0.1873 - accuracy: 0.9299 - val_loss: 0.1967 - val_accuracy: 0.9286\n",
      "Epoch 19/25\n",
      "375/375 [==============================] - 34s 91ms/step - loss: 0.1771 - accuracy: 0.9330 - val_loss: 0.1951 - val_accuracy: 0.9307\n",
      "Epoch 20/25\n",
      "375/375 [==============================] - 34s 90ms/step - loss: 0.1771 - accuracy: 0.9325 - val_loss: 0.1924 - val_accuracy: 0.9312\n",
      "Epoch 21/25\n",
      "375/375 [==============================] - 34s 90ms/step - loss: 0.1716 - accuracy: 0.9363 - val_loss: 0.1990 - val_accuracy: 0.9302\n",
      "Epoch 22/25\n",
      "375/375 [==============================] - 34s 91ms/step - loss: 0.1700 - accuracy: 0.9346 - val_loss: 0.2034 - val_accuracy: 0.9301\n",
      "Epoch 23/25\n",
      "375/375 [==============================] - 34s 90ms/step - loss: 0.1670 - accuracy: 0.9358 - val_loss: 0.1982 - val_accuracy: 0.9293\n",
      "Epoch 24/25\n",
      "375/375 [==============================] - 34s 91ms/step - loss: 0.1649 - accuracy: 0.9371 - val_loss: 0.2001 - val_accuracy: 0.9295\n",
      "Epoch 25/25\n",
      "375/375 [==============================] - 34s 91ms/step - loss: 0.1625 - accuracy: 0.9364 - val_loss: 0.1950 - val_accuracy: 0.9330\n"
     ]
    }
   ],
   "source": [
    "model_history = model.fit(X_train,train_label,batch_size=batch_size,epochs = epochs,validation_data=(X_valid,valid_label))"
   ]
  },
  {
   "cell_type": "code",
   "execution_count": 16,
   "id": "7ac364ed",
   "metadata": {},
   "outputs": [
    {
     "name": "stdout",
     "output_type": "stream",
     "text": [
      "dict_keys(['loss', 'accuracy', 'val_loss', 'val_accuracy'])\n"
     ]
    }
   ],
   "source": [
    "print(model_history.history.keys())"
   ]
  },
  {
   "cell_type": "code",
   "execution_count": 17,
   "id": "940debad",
   "metadata": {},
   "outputs": [
    {
     "data": {
      "text/plain": [
       "<Figure size 432x288 with 0 Axes>"
      ]
     },
     "execution_count": 17,
     "metadata": {},
     "output_type": "execute_result"
    },
    {
     "data": {
      "image/png": "[encoded data removed]",
      "text/plain": [
       "<Figure size 432x288 with 1 Axes>"
      ]
     },
     "metadata": {
      "needs_background": "light"
     },
     "output_type": "display_data"
    },
    {
     "data": {
      "text/plain": [
       "<Figure size 432x288 with 0 Axes>"
      ]
     },
     "metadata": {},
     "output_type": "display_data"
    }
   ],
   "source": [
    "accuracy = model_history.history['accuracy']\n",
    "val_accuracy = model_history.history['val_accuracy']\n",
    "epochs = range(len(accuracy))\n",
    "plt.plot(epochs , accuracy , 'bo', label = 'Training Accuracy' )\n",
    "plt.plot(epochs , val_accuracy , 'b', label = 'Validation Accuracy' )\n",
    "plt.legend()\n",
    "plt.figure()"
   ]
  },
  {
   "cell_type": "code",
   "execution_count": 18,
   "id": "19b2ddda",
   "metadata": {},
   "outputs": [
    {
     "data": {
      "text/plain": [
       "<Figure size 432x288 with 0 Axes>"
      ]
     },
     "execution_count": 18,
     "metadata": {},
     "output_type": "execute_result"
    },
    {
     "data": {
      "image/png": "[encoded data removed]",
      "text/plain": [
       "<Figure size 432x288 with 1 Axes>"
      ]
     },
     "metadata": {
      "needs_background": "light"
     },
     "output_type": "display_data"
    },
    {
     "data": {
      "text/plain": [
       "<Figure size 432x288 with 0 Axes>"
      ]
     },
     "metadata": {},
     "output_type": "display_data"
    }
   ],
   "source": [
    "loss = model_history.history['loss']\n",
    "val_loss = model_history.history['val_loss']\n",
    "epochs = range(len(accuracy))\n",
    "plt.plot(epochs , loss , 'bo', label = 'Training loss' )\n",
    "plt.plot(epochs , val_loss , 'b', label = 'Validation loss' )\n",
    "plt.legend()\n",
    "plt.figure()"
   ]
  },
  {
   "cell_type": "code",
   "execution_count": 19,
   "id": "ab3067f5",
   "metadata": {},
   "outputs": [
    {
     "name": "stdout",
     "output_type": "stream",
     "text": [
      "313/313 [==============================] - 3s 8ms/step - loss: 0.2225 - accuracy: 0.9223\n"
     ]
    }
   ],
   "source": [
    "test_set = model.evaluate(X_test,y_test_one)"
   ]
  },
  {
   "cell_type": "code",
   "execution_count": 21,
   "id": "934ca96b",
   "metadata": {},
   "outputs": [
    {
     "name": "stdout",
     "output_type": "stream",
     "text": [
      "Test Loss :  0.22250443696975708\n",
      "Test Accuracy : 0.9222999811172485\n"
     ]
    }
   ],
   "source": [
    "print(\"Test Loss : \",test_set[0])\n",
    "print(\"Test Accuracy :\",test_set[1])"
   ]
  },
  {
   "cell_type": "code",
   "execution_count": null,
   "id": "4ffac606",
   "metadata": {},
   "outputs": [],
   "source": []
  },
  {
   "cell_type": "code",
   "execution_count": null,
   "id": "f5e7aca3",
   "metadata": {},
   "outputs": [],
   "source": []
  },
  {
   "cell_type": "code",
   "execution_count": null,
   "id": "722fe81a",
   "metadata": {},
   "outputs": [],
   "source": []
  },
  {
   "cell_type": "code",
   "execution_count": null,
   "id": "3167b14e",
   "metadata": {},
   "outputs": [],
   "source": []
  },
  {
   "cell_type": "code",
   "execution_count": null,
   "id": "576de856",
   "metadata": {},
   "outputs": [],
   "source": []
  },
  {
   "cell_type": "code",
   "execution_count": null,
   "id": "f72c5f89",
   "metadata": {},
   "outputs": [],
   "source": []
  },
  {
   "cell_type": "code",
   "execution_count": null,
   "id": "ecf2e5f5",
   "metadata": {},
   "outputs": [],
   "source": []
  },
  {
   "cell_type": "code",
   "execution_count": null,
   "id": "98d6bf9a",
   "metadata": {},
   "outputs": [],
   "source": []
  }
 ],
 "metadata": {
  "kernelspec": {
   "display_name": "Python 3 (ipykernel)",
   "language": "python",
   "name": "python3"
  },
  "language_info": {
   "codemirror_mode": {
    "name": "ipython",
    "version": 3
   },
   "file_extension": ".py",
   "mimetype": "text/x-python",
   "name": "python",
   "nbconvert_exporter": "python",
   "pygments_lexer": "ipython3",
   "version": "3.9.11"
  }
 },
 "nbformat": 4,
 "nbformat_minor": 5
}
